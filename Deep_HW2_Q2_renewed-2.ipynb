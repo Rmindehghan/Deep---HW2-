{
  "cells": [
    {
      "cell_type": "code",
      "execution_count": 1,
      "metadata": {
        "id": "9b6b97f1"
      },
      "outputs": [],
      "source": [
        "import torch\n",
        "import torch.nn as nn\n",
        "from tqdm import tqdm\n",
        "from torch.optim import Adam\n",
        "from torchvision.datasets import MNIST\n",
        "from torch.utils.data import DataLoader\n",
        "from torchvision.transforms import Compose , ToTensor , Normalize , Lambda"
      ],
      "id": "9b6b97f1"
    },
    {
      "cell_type": "markdown",
      "metadata": {
        "id": "EmOQLgoigyek"
      },
      "source": [
        "## **Data Loading**"
      ],
      "id": "EmOQLgoigyek"
    },
    {
      "cell_type": "code",
      "execution_count": null,
      "metadata": {
        "id": "6-3okRfoe_h9",
        "colab": {
          "base_uri": "https://localhost:8080/"
        },
        "outputId": "5daf2f42-0314-4aba-a59f-9436a7f86196"
      },
      "outputs": [
        {
          "output_type": "stream",
          "name": "stdout",
          "text": [
            "Downloading http://yann.lecun.com/exdb/mnist/train-images-idx3-ubyte.gz\n",
            "Downloading http://yann.lecun.com/exdb/mnist/train-images-idx3-ubyte.gz to ./data/MNIST/raw/train-images-idx3-ubyte.gz\n"
          ]
        },
        {
          "output_type": "stream",
          "name": "stderr",
          "text": [
            "100%|██████████| 9912422/9912422 [00:00<00:00, 77789544.75it/s]\n"
          ]
        },
        {
          "output_type": "stream",
          "name": "stdout",
          "text": [
            "Extracting ./data/MNIST/raw/train-images-idx3-ubyte.gz to ./data/MNIST/raw\n",
            "\n",
            "Downloading http://yann.lecun.com/exdb/mnist/train-labels-idx1-ubyte.gz\n",
            "Downloading http://yann.lecun.com/exdb/mnist/train-labels-idx1-ubyte.gz to ./data/MNIST/raw/train-labels-idx1-ubyte.gz\n"
          ]
        },
        {
          "output_type": "stream",
          "name": "stderr",
          "text": [
            "100%|██████████| 28881/28881 [00:00<00:00, 98404300.43it/s]\n"
          ]
        },
        {
          "output_type": "stream",
          "name": "stdout",
          "text": [
            "Extracting ./data/MNIST/raw/train-labels-idx1-ubyte.gz to ./data/MNIST/raw\n",
            "\n",
            "Downloading http://yann.lecun.com/exdb/mnist/t10k-images-idx3-ubyte.gz\n",
            "Downloading http://yann.lecun.com/exdb/mnist/t10k-images-idx3-ubyte.gz to ./data/MNIST/raw/t10k-images-idx3-ubyte.gz\n"
          ]
        },
        {
          "output_type": "stream",
          "name": "stderr",
          "text": [
            "100%|██████████| 1648877/1648877 [00:00<00:00, 39293051.43it/s]\n"
          ]
        },
        {
          "output_type": "stream",
          "name": "stdout",
          "text": [
            "Extracting ./data/MNIST/raw/t10k-images-idx3-ubyte.gz to ./data/MNIST/raw\n",
            "\n",
            "Downloading http://yann.lecun.com/exdb/mnist/t10k-labels-idx1-ubyte.gz\n",
            "Downloading http://yann.lecun.com/exdb/mnist/t10k-labels-idx1-ubyte.gz to ./data/MNIST/raw/t10k-labels-idx1-ubyte.gz\n"
          ]
        },
        {
          "output_type": "stream",
          "name": "stderr",
          "text": [
            "100%|██████████| 4542/4542 [00:00<00:00, 15450550.50it/s]\n"
          ]
        },
        {
          "output_type": "stream",
          "name": "stdout",
          "text": [
            "Extracting ./data/MNIST/raw/t10k-labels-idx1-ubyte.gz to ./data/MNIST/raw\n",
            "\n"
          ]
        }
      ],
      "source": [
        "torch.manual_seed(1234)\n",
        "train_size=50000\n",
        "test_size=10000\n",
        "\n",
        "transform = Compose([ToTensor(),Normalize((0.1307,), (0.3081,)),Lambda(lambda x: torch.flatten(x))])\n",
        "train = DataLoader(MNIST('./data/', train=True,download=True,transform=transform),batch_size=train_size, shuffle=True)\n",
        "test = DataLoader(MNIST('./data/', train=False,download=True,transform=transform),batch_size=test_size, shuffle=False)\n",
        "\n",
        "x, y = next(iter(train))\n",
        "x, y = x.cuda(), y.cuda()"
      ],
      "id": "6-3okRfoe_h9"
    },
    {
      "cell_type": "markdown",
      "metadata": {
        "id": "-OiAW31Yg_VK"
      },
      "source": [
        "Creating positive and negative inputs :\n",
        "the way i use to provide negative inputs is generating a random label for an input image"
      ],
      "id": "-OiAW31Yg_VK"
    },
    {
      "cell_type": "code",
      "execution_count": null,
      "metadata": {
        "id": "1XhQH9rqhaU3"
      },
      "outputs": [],
      "source": [
        "x_pos = x.clone()\n",
        "# Set the first 10 columns of x_pos to 0.0\n",
        "x_pos[:, :10] = 0.0\n",
        "x_pos[range(x.shape[0]), y] = x.max()\n",
        "\n",
        "x_neg = x.clone()\n",
        "# Set the first 10 columns of x_neg to 0.0\n",
        "x_neg[:, :10] = 0.0\n",
        "rnd = torch.randperm(x.size(0))\n",
        "x_neg[range(x.shape[0]), y[rnd]] = x.max()"
      ],
      "id": "1XhQH9rqhaU3"
    },
    {
      "cell_type": "markdown",
      "metadata": {
        "id": "4lH-eJ50hoGj"
      },
      "source": [
        "I used the first 10 pixels of the image for the label (One Hot Encoding ). Here is an example -->"
      ],
      "id": "4lH-eJ50hoGj"
    },
    {
      "cell_type": "code",
      "execution_count": null,
      "metadata": {
        "colab": {
          "base_uri": "https://localhost:8080/",
          "height": 329
        },
        "id": "yvYx24xBh51p",
        "outputId": "37d5ff10-5262-452e-e648-3341b5ec06e5"
      },
      "outputs": [
        {
          "output_type": "display_data",
          "data": {
            "text/plain": [
              "<Figure size 1200x400 with 3 Axes>"
            ],
            "image/png": "[encoded data removed]"
          },
          "metadata": {}
        }
      ],
      "source": [
        "import torchvision.transforms.functional as F\n",
        "import matplotlib.pyplot as plt\n",
        "\n",
        "# Move tensors to CPU\n",
        "x_cpu = x[2].cpu()\n",
        "x_pos_cpu = x_pos[2].cpu()\n",
        "x_neg_cpu = x_neg[2].cpu()\n",
        "\n",
        "# Plot the images\n",
        "plt.figure(figsize=(12, 4))\n",
        "\n",
        "# Original image\n",
        "plt.subplot(1, 3, 1)\n",
        "plt.imshow(x_cpu.view(28, 28), cmap='gray')  # Assuming MNIST-like images with size 28x28\n",
        "plt.title('Original from x')\n",
        "plt.axis('off')\n",
        "\n",
        "# Positive image\n",
        "plt.subplot(1, 3, 2)\n",
        "plt.imshow(x_pos_cpu.view(28, 28), cmap='gray')\n",
        "plt.title('Positive from x_pos')\n",
        "plt.axis('off')\n",
        "\n",
        "# Negative image\n",
        "plt.subplot(1, 3, 3)\n",
        "plt.imshow(x_neg_cpu.view(28, 28), cmap='gray')\n",
        "plt.title('Negative from x_neg')\n",
        "plt.axis('off')\n",
        "\n",
        "# Show the plot\n",
        "plt.show()"
      ],
      "id": "yvYx24xBh51p"
    },
    {
      "cell_type": "code",
      "execution_count": null,
      "metadata": {
        "id": "66c8d6c2"
      },
      "outputs": [],
      "source": [
        "class Net(torch.nn.Module):\n",
        "\n",
        "    def __init__(self, dims):\n",
        "        self.num_epochs = 1000\n",
        "        super().__init__()\n",
        "        self.layers = []\n",
        "        for d in range(len(dims) - 1):\n",
        "            self.layers += [Layer(dims[d], dims[d + 1]).cuda()]\n",
        "\n",
        "    def predict(self, x):\n",
        "        goodness_per_label = []\n",
        "        for label in range(10):\n",
        "            h = x.clone()\n",
        "            h[:, :10] *= 0.0\n",
        "            h[range(x.shape[0]), label] = x.max()\n",
        "            goodness = []\n",
        "            for layer in self.layers:\n",
        "                h = layer(h)\n",
        "                goodness += [h.pow(2).mean(1)]\n",
        "            goodness_per_label += [sum(goodness).unsqueeze(1)]\n",
        "        goodness_per_label = torch.cat(goodness_per_label, 1)\n",
        "        return goodness_per_label.argmax(1)\n"
      ],
      "id": "66c8d6c2"
    },
    {
      "cell_type": "code",
      "execution_count": null,
      "metadata": {
        "id": "34d7b0c7"
      },
      "outputs": [],
      "source": [
        "class Layer(nn.Linear):\n",
        "    def __init__(self, in_features, out_features,\n",
        "                 bias=True, device=None, dtype=None):\n",
        "        super().__init__(in_features, out_features, bias, device, dtype)\n",
        "        self.relu = torch.nn.ReLU()\n",
        "        self.opt = Adam(self.parameters(), lr=0.03)\n",
        "        self.threshold = 2.0\n",
        "\n",
        "\n",
        "    def forward(self, x):\n",
        "        x_direction = x / (x.norm(2, 1, keepdim=True) + 1e-4)\n",
        "        return self.relu(\n",
        "            torch.mm(x_direction, self.weight.T) +\n",
        "            self.bias.unsqueeze(0))"
      ],
      "id": "34d7b0c7"
    },
    {
      "cell_type": "markdown",
      "metadata": {
        "id": "OEqguhzUnEiy"
      },
      "source": [
        "#Training and Results :"
      ],
      "id": "OEqguhzUnEiy"
    },
    {
      "cell_type": "code",
      "execution_count": null,
      "metadata": {
        "colab": {
          "base_uri": "https://localhost:8080/"
        },
        "id": "1839ed0b",
        "outputId": "7e419400-6c24-4c9e-fa8f-c1d77f7c5d7a"
      },
      "outputs": [
        {
          "output_type": "stream",
          "name": "stdout",
          "text": [
            "train error: 0.058480024337768555\n"
          ]
        }
      ],
      "source": [
        "\n",
        "net = Net([784, 500, 500])\n",
        "\n",
        "#training :\n",
        "for epoch in range(net.num_epochs):\n",
        "    h_pos, h_neg = x_pos, x_neg\n",
        "    for  layer in net.layers:\n",
        "      g_pos = layer.forward(h_pos).pow(2).mean(1)\n",
        "      g_neg = layer.forward(h_neg).pow(2).mean(1)\n",
        "\n",
        "      loss = torch.log(1 + torch.exp(torch.cat([\n",
        "          -g_pos + layer.threshold,\n",
        "          g_neg - layer.threshold]))).mean()\n",
        "\n",
        "      layer.opt.zero_grad()\n",
        "      loss.backward()\n",
        "      layer.opt.step()\n",
        "      h_pos, h_neg = layer.forward(h_pos).detach(), layer.forward(h_neg).detach()\n",
        "\n",
        "\n",
        "print('train error:', 1.0 - net.predict(x).eq(y).float().mean().item())\n",
        "\n"
      ],
      "id": "1839ed0b"
    },
    {
      "cell_type": "markdown",
      "metadata": {
        "id": "htpl0j6ZoLih"
      },
      "source": [
        "# Testing and Results"
      ],
      "id": "htpl0j6ZoLih"
    },
    {
      "cell_type": "code",
      "execution_count": null,
      "metadata": {
        "id": "8dME2qd_nhtj",
        "colab": {
          "base_uri": "https://localhost:8080/"
        },
        "outputId": "ef2c39ed-ab03-4a24-8844-4a1c163d4224"
      },
      "outputs": [
        {
          "output_type": "stream",
          "name": "stdout",
          "text": [
            "test error: 0.05870002508163452\n"
          ]
        }
      ],
      "source": [
        "x_te, y_te = next(iter(test))\n",
        "x_te, y_te = x_te.cuda(), y_te.cuda()\n",
        "\n",
        "print('test error:', 1.0 - net.predict(x_te).eq(y_te).float().mean().item())"
      ],
      "id": "8dME2qd_nhtj"
    },
    {
      "cell_type": "markdown",
      "source": [
        "# **Unsupervised  :**\n",
        "\n",
        "---\n",
        "\n",
        "\n",
        "\n",
        "\n",
        "\n"
      ],
      "metadata": {
        "id": "s4SYaFDEQwxz"
      },
      "id": "s4SYaFDEQwxz"
    },
    {
      "cell_type": "markdown",
      "source": [
        "**Data Loading :**"
      ],
      "metadata": {
        "id": "T151LsHcQ8T2"
      },
      "id": "T151LsHcQ8T2"
    },
    {
      "cell_type": "code",
      "source": [
        "torch.manual_seed(1234)\n",
        "train_size=50000\n",
        "test_size=10000\n",
        "\n",
        "transform = Compose([ToTensor(),Normalize((0.1307,), (0.3081,)),Lambda(lambda x: torch.flatten(x))])\n",
        "train = DataLoader(MNIST('./data/', train=True,download=True,transform=transform),batch_size=train_size, shuffle=True)\n",
        "test = DataLoader(MNIST('./data/', train=False,download=True,transform=transform),batch_size=test_size, shuffle=False)\n",
        "\n",
        "x, y = next(iter(train))\n",
        "x, y = x.cuda(), y.cuda()\n",
        "x_pos = x.clone()\n",
        "\n",
        "x_test, y_test = next(iter(test))\n",
        "x_test, y_test = x_test.cuda(), y_test.cuda()"
      ],
      "metadata": {
        "id": "ONJvBSL4REdM"
      },
      "id": "ONJvBSL4REdM",
      "execution_count": 8,
      "outputs": []
    },
    {
      "cell_type": "markdown",
      "source": [
        "## **Generating The Mask :**"
      ],
      "metadata": {
        "id": "KoQvilvgSQYp"
      },
      "id": "KoQvilvgSQYp"
    },
    {
      "cell_type": "code",
      "source": [
        "import torch\n",
        "import torch.nn.functional as F\n",
        "import matplotlib.pyplot as plt\n",
        "\n",
        "\n",
        "import torch\n",
        "import torch.nn.functional as F\n",
        "\n",
        "def create_mask(image_size, blur_iterations=5):\n",
        "    random_image = torch.rand(1, 1, *image_size)\n",
        "    blur_filter = torch.tensor([1/4, 1/2, 1/4], dtype=torch.float32).view(1, 1, 3, 1)\n",
        "    for _ in range(blur_iterations):\n",
        "        random_image = F.conv2d(random_image, blur_filter, stride=1, padding=1)\n",
        "    mask = (random_image > 0.5).float()\n",
        "    mask = F.interpolate(mask, size=image_size, mode='nearest')\n",
        "\n",
        "    return mask\n",
        "\n",
        "image_size = (28, 28)\n",
        "mask = create_mask(image_size).squeeze()\n",
        "plt.imshow(mask.numpy(), cmap='gray')\n",
        "plt.title('Generated Mask')\n",
        "plt.show()"
      ],
      "metadata": {
        "colab": {
          "base_uri": "https://localhost:8080/",
          "height": 452
        },
        "id": "XwlAdSJz-xJ2",
        "outputId": "1340012e-a825-4847-a6e4-069c31748c41"
      },
      "id": "XwlAdSJz-xJ2",
      "execution_count": 3,
      "outputs": [
        {
          "output_type": "display_data",
          "data": {
            "text/plain": [
              "<Figure size 640x480 with 1 Axes>"
            ],
            "image/png": "[encoded data removed]"
          },
          "metadata": {}
        }
      ]
    },
    {
      "cell_type": "markdown",
      "source": [
        "**Applying the mask to an image from the dataset ---> (just for show the mask efect):**"
      ],
      "metadata": {
        "id": "hCIkGjkASWMY"
      },
      "id": "hCIkGjkASWMY"
    },
    {
      "cell_type": "code",
      "source": [
        "x_orig = x[6].view(28,28).cpu()\n",
        "x_masked = x_orig*mask.cpu()\n",
        "x_masked[x_masked<0.000001] = 0.0\n",
        "plt.figure(figsize=(8, 4))\n",
        "\n",
        "plt.subplot(1, 2, 1)\n",
        "plt.imshow(x_orig.reshape(28, 28), cmap='gray')\n",
        "plt.title('Original Image')\n",
        "\n",
        "plt.subplot(1, 2, 2)\n",
        "plt.imshow(x_masked.reshape(28, 28), cmap='gray')\n",
        "plt.title('Masked Image')\n",
        "\n",
        "plt.show()"
      ],
      "metadata": {
        "colab": {
          "base_uri": "https://localhost:8080/",
          "height": 364
        },
        "id": "LuY5KPtMEQgM",
        "outputId": "e81e48be-d00d-437d-cfc4-7bdc348535e3"
      },
      "id": "LuY5KPtMEQgM",
      "execution_count": 6,
      "outputs": [
        {
          "output_type": "display_data",
          "data": {
            "text/plain": [
              "<Figure size 800x400 with 2 Axes>"
            ],
            "image/png": "[encoded data removed]"
          },
          "metadata": {}
        }
      ]
    },
    {
      "cell_type": "markdown",
      "source": [
        "## **Negative Data Generation :**"
      ],
      "metadata": {
        "id": "3_xgQFYXSi6S"
      },
      "id": "3_xgQFYXSi6S"
    },
    {
      "cell_type": "markdown",
      "source": [
        "I permute the original data set and by following method generate negative data :\n",
        "\n",
        "$$x_{neg}[i] = x_{original}[i] * mask + (1-mask)*x_{permuted}[i]$$\n",
        "\n",
        "**bellow cells are the implementations :**\n",
        "\n",
        "First generating a permuted dataset from the original one :"
      ],
      "metadata": {
        "id": "51g38HJtUiyu"
      },
      "id": "51g38HJtUiyu"
    },
    {
      "cell_type": "markdown",
      "source": [
        "Now applying the method to obtain negative data :"
      ],
      "metadata": {
        "id": "56DwStHU19Ll"
      },
      "id": "56DwStHU19Ll"
    },
    {
      "cell_type": "code",
      "source": [
        "import numpy as np\n",
        "import cv2\n",
        "import numpy as np\n",
        "\n",
        "\n",
        "def create_mask(image_size):\n",
        "    mask = np.random.randint(0, 2, image_size).astype(np.float32)\n",
        "    for i in range(5):\n",
        "        mask = cv2.filter2D(mask, -1, np.array([[1/4, 1/2, 1/4]]))\n",
        "        mask = cv2.filter2D(mask, -1, np.array([[1/4], [1/2], [1/4]]))\n",
        "    mask[mask> 0.5] = 1\n",
        "    mask[mask <= 0.5] = 0\n",
        "    return torch.tensor(mask)\n",
        "\n",
        "\n",
        "def negative_generate(data):\n",
        "        clone_data = data.clone()\n",
        "\n",
        "        indices = np.arange(clone_data.shape[0])\n",
        "        np.random.shuffle(indices)\n",
        "        permutation = torch.tensor(indices)\n",
        "        permuted = torch.index_select(clone_data, 0, permutation)\n",
        "\n",
        "        hybrid_data = torch.zeros(clone_data.shape)\n",
        "\n",
        "        for row in range(clone_data.shape[0]):\n",
        "                mask1 = create_mask((28, 28))\n",
        "                mask2 = 1-mask1\n",
        "                hybrid_data_ = mask1* clone_data[row].view(28,28) + mask2*permuted[row].view(28,28)\n",
        "                hybrid_data[row] = hybrid_data_.view(-1)\n",
        "\n",
        "        return hybrid_data"
      ],
      "metadata": {
        "id": "9npPEVSlr4H4"
      },
      "id": "9npPEVSlr4H4",
      "execution_count": 9,
      "outputs": []
    },
    {
      "cell_type": "code",
      "source": [
        "class Unsupervised_net(torch.nn.Module):\n",
        "\n",
        "    def __init__(self, dims):\n",
        "        self.num_epochs = 1000\n",
        "        super().__init__()\n",
        "        self.layers = []\n",
        "        for d in range(len(dims) - 1):\n",
        "            self.layers += [Unsupervised_layer(dims[d], dims[d + 1]).cuda()]\n",
        "\n",
        "    def predict(self, x):\n",
        "        layer_outputs = []\n",
        "        h = x.clone()\n",
        "        for layer in self.layers:\n",
        "            h = layer(h)\n",
        "            layer_outputs.append(h)\n",
        "        final_output = torch.cat(layer_outputs, dim=-1)\n",
        "        return final_output\n"
      ],
      "metadata": {
        "id": "HPVm9YR0tXel"
      },
      "id": "HPVm9YR0tXel",
      "execution_count": 10,
      "outputs": []
    },
    {
      "cell_type": "code",
      "source": [
        "class Unsupervised_layer(nn.Linear):\n",
        "    def __init__(self, in_features, out_features,\n",
        "                 bias=True, device=None, dtype=None):\n",
        "        super().__init__(in_features, out_features, bias, device, dtype)\n",
        "        self.relu = torch.nn.ReLU()\n",
        "        self.opt = Adam(self.parameters(), lr=0.03)\n",
        "        self.threshold = 2.0\n",
        "\n",
        "    def forward(self, x):\n",
        "        x_direction = x / (x.norm(2, 1, keepdim=True) + 1e-4)\n",
        "        return self.relu(\n",
        "            torch.mm(x_direction, self.weight.T) +\n",
        "            self.bias.unsqueeze(0))\n",
        "\n"
      ],
      "metadata": {
        "id": "iYLd7ZRjmCD2"
      },
      "id": "iYLd7ZRjmCD2",
      "execution_count": 11,
      "outputs": []
    },
    {
      "cell_type": "markdown",
      "source": [
        "## **Training :**"
      ],
      "metadata": {
        "id": "tDMDUSW42H_r"
      },
      "id": "tDMDUSW42H_r"
    },
    {
      "cell_type": "code",
      "source": [
        "from torchvision import transforms\n",
        "batch_size = 128\n",
        "\n",
        "transformer = transforms.Compose([transforms.ToTensor(),\n",
        "                        transforms.Normalize((0.1307,), (0.3081,)),\n",
        "                        transforms.Lambda(lambda x: x.view(-1))])\n",
        "\n",
        "train_dataloader = DataLoader(MNIST('./data/',train=True,download=True,transform=transformer),\n",
        "                              batch_size=batch_size, shuffle=True)\n",
        "\n",
        "test_dataloader = DataLoader(MNIST('./data/',train=False,download=True,transform=transformer),\n",
        "                              batch_size=batch_size, shuffle=True)\n",
        "\n",
        "net = Unsupervised_net([784, 500, 500])\n",
        "\n",
        "for (data, targets) in tqdm(train_dataloader):\n",
        "    x_pos = data.clone().cuda()\n",
        "    x_neg = negative_generate(data).cuda()\n",
        "    h_pos, h_neg = x_pos, x_neg\n",
        "    for  layer in net.layers:\n",
        "      g_pos = layer.forward(h_pos).pow(2).mean(1)\n",
        "      g_neg = layer.forward(h_neg).pow(2).mean(1)\n",
        "\n",
        "      loss = torch.log(1 + torch.exp(torch.cat([\n",
        "          -g_pos + layer.threshold,\n",
        "          g_neg - layer.threshold]))).mean()\n",
        "\n",
        "      layer.opt.zero_grad()\n",
        "      loss.backward()\n",
        "      layer.opt.step()\n",
        "      h_pos, h_neg = layer.forward(h_pos).detach(), layer.forward(h_neg).detach()\n",
        "\n",
        "\n",
        "\n"
      ],
      "metadata": {
        "id": "PsdD6R072JRE",
        "colab": {
          "base_uri": "https://localhost:8080/"
        },
        "outputId": "f92ec809-2a26-4db4-9e25-e4b930e97038"
      },
      "id": "PsdD6R072JRE",
      "execution_count": 12,
      "outputs": [
        {
          "output_type": "stream",
          "name": "stderr",
          "text": [
            "100%|██████████| 469/469 [00:39<00:00, 11.86it/s]\n"
          ]
        }
      ]
    },
    {
      "cell_type": "markdown",
      "source": [
        "Train and Test unsupervised prediction :\n",
        "\n"
      ],
      "metadata": {
        "id": "RfxBgq34X7di"
      },
      "id": "RfxBgq34X7di"
    },
    {
      "cell_type": "code",
      "source": [
        "from torchvision import transforms\n"
      ],
      "metadata": {
        "id": "HybbBUjen7CX"
      },
      "id": "HybbBUjen7CX",
      "execution_count": 13,
      "outputs": []
    },
    {
      "cell_type": "code",
      "source": [
        "# train\n",
        "train_layers_ouputs= []\n",
        "train_targets = []\n",
        "\n",
        "for (data, targets) in tqdm(train_dataloader):\n",
        "    train_layers_ouputs.append(net.predict(data.cuda()))\n",
        "    train_targets.append(targets)\n",
        "\n",
        "train_layers_ouputs = torch.cat(train_layers_ouputs, dim=0).cuda().detach()\n",
        "train_targets = torch.cat(train_targets, dim=-1).cuda().detach()"
      ],
      "metadata": {
        "colab": {
          "base_uri": "https://localhost:8080/"
        },
        "id": "57JA7yVNnVaJ",
        "outputId": "023b73c2-1971-4d21-b8df-6a8b65374973"
      },
      "id": "57JA7yVNnVaJ",
      "execution_count": 14,
      "outputs": [
        {
          "output_type": "stream",
          "name": "stderr",
          "text": [
            "100%|██████████| 469/469 [00:12<00:00, 36.17it/s]\n"
          ]
        }
      ]
    },
    {
      "cell_type": "code",
      "source": [
        "# test\n",
        "layers_ouputs= []\n",
        "test_targets = []\n",
        "\n",
        "for (data, targets) in tqdm(test_dataloader):\n",
        "    layers_ouputs.append(net.predict(data.cuda()))\n",
        "    test_targets.append(targets)\n",
        "\n",
        "layers_ouputs = torch.cat(layers_ouputs, dim=0).cuda().detach()\n",
        "test_targets = torch.cat(test_targets, dim=-1).cuda().detach()"
      ],
      "metadata": {
        "colab": {
          "base_uri": "https://localhost:8080/"
        },
        "id": "T-jZm8brnZJJ",
        "outputId": "7c9d7002-a995-42a1-9188-bffe3ee1e808"
      },
      "id": "T-jZm8brnZJJ",
      "execution_count": 15,
      "outputs": [
        {
          "output_type": "stream",
          "name": "stderr",
          "text": [
            "100%|██████████| 79/79 [00:02<00:00, 37.53it/s]\n"
          ]
        }
      ]
    },
    {
      "cell_type": "code",
      "source": [
        "from torch.utils.data import DataLoader,Dataset\n",
        "class Custom_Dataset(Dataset):\n",
        "    def __init__(self, X, y):\n",
        "        self.X = X\n",
        "        self.y = y\n",
        "\n",
        "    def __len__(self):\n",
        "        return len(self.X)\n",
        "\n",
        "    def __getitem__(self, idx):\n",
        "        return self.X[idx], self.y[idx]"
      ],
      "metadata": {
        "id": "UZMt8-cBna6n"
      },
      "id": "UZMt8-cBna6n",
      "execution_count": 16,
      "outputs": []
    },
    {
      "cell_type": "code",
      "source": [
        "batch_size = 64\n",
        "\n",
        "train_dataset = Custom_Dataset(train_layers_ouputs, train_targets)\n",
        "train_dataloader_ = DataLoader(train_dataset, batch_size=batch_size, shuffle=True)\n",
        "\n",
        "test_dataset = Custom_Dataset(layers_ouputs, test_targets)\n",
        "test_dataloader_ = DataLoader(test_dataset, batch_size=batch_size, shuffle=True)"
      ],
      "metadata": {
        "id": "UobgblXEneCG"
      },
      "id": "UobgblXEneCG",
      "execution_count": 17,
      "outputs": []
    },
    {
      "cell_type": "code",
      "source": [
        "class OneLayerNet(nn.Module):\n",
        "    def __init__(self, input_size, num_classes):\n",
        "        super(OneLayerNet, self).__init__()\n",
        "        self.fc = nn.Linear(input_size, num_classes)\n",
        "\n",
        "    def forward(self, x):\n",
        "        x = self.fc(x)\n",
        "        return torch.softmax(x, dim=1)\n",
        "model = OneLayerNet(1000, 10).cuda()"
      ],
      "metadata": {
        "id": "DDW49Ad9npCd"
      },
      "id": "DDW49Ad9npCd",
      "execution_count": 18,
      "outputs": []
    },
    {
      "cell_type": "code",
      "source": [
        "criterion = nn.CrossEntropyLoss()\n",
        "optimizer = torch.optim.Adam(model.parameters(), lr=0.01)\n",
        "num_epochs = 100\n",
        "\n",
        "for _ in range(num_epochs):\n",
        "    for (data, targets) in tqdm(train_dataloader_):\n",
        "        data = data.cuda()\n",
        "        targets = targets.cuda()\n",
        "        optimizer.zero_grad()\n",
        "        outputs = model(data)\n",
        "        loss = criterion(outputs, targets)\n",
        "        loss.backward()\n",
        "        optimizer.step()"
      ],
      "metadata": {
        "colab": {
          "base_uri": "https://localhost:8080/"
        },
        "id": "uAp-NQ3XntK8",
        "outputId": "3befc57d-9eee-4cb1-8e2e-61049aa43ec4"
      },
      "id": "uAp-NQ3XntK8",
      "execution_count": 19,
      "outputs": [
        {
          "output_type": "stream",
          "name": "stderr",
          "text": [
            "100%|██████████| 938/938 [00:01<00:00, 549.80it/s]\n",
            "100%|██████████| 938/938 [00:01<00:00, 552.73it/s]\n",
            "100%|██████████| 938/938 [00:02<00:00, 366.92it/s]\n",
            "100%|██████████| 938/938 [00:01<00:00, 534.95it/s]\n",
            "100%|██████████| 938/938 [00:01<00:00, 662.25it/s]\n",
            "100%|██████████| 938/938 [00:01<00:00, 669.04it/s]\n",
            "100%|██████████| 938/938 [00:01<00:00, 685.87it/s]\n",
            "100%|██████████| 938/938 [00:01<00:00, 667.66it/s]\n",
            "100%|██████████| 938/938 [00:01<00:00, 642.66it/s]\n",
            "100%|██████████| 938/938 [00:01<00:00, 659.71it/s]\n",
            "100%|██████████| 938/938 [00:01<00:00, 614.39it/s]\n",
            "100%|██████████| 938/938 [00:01<00:00, 509.99it/s]\n",
            "100%|██████████| 938/938 [00:01<00:00, 590.45it/s]\n",
            "100%|██████████| 938/938 [00:01<00:00, 542.58it/s]\n",
            "100%|██████████| 938/938 [00:01<00:00, 534.50it/s]\n",
            "100%|██████████| 938/938 [00:01<00:00, 653.85it/s]\n",
            "100%|██████████| 938/938 [00:01<00:00, 686.33it/s]\n",
            "100%|██████████| 938/938 [00:01<00:00, 675.19it/s]\n",
            "100%|██████████| 938/938 [00:01<00:00, 675.83it/s]\n",
            "100%|██████████| 938/938 [00:01<00:00, 535.93it/s]\n",
            "100%|██████████| 938/938 [00:01<00:00, 484.41it/s]\n",
            "100%|██████████| 938/938 [00:01<00:00, 650.49it/s]\n",
            "100%|██████████| 938/938 [00:01<00:00, 682.14it/s]\n",
            "100%|██████████| 938/938 [00:01<00:00, 672.77it/s]\n",
            "100%|██████████| 938/938 [00:01<00:00, 687.07it/s]\n",
            "100%|██████████| 938/938 [00:01<00:00, 663.57it/s]\n",
            "100%|██████████| 938/938 [00:01<00:00, 682.71it/s]\n",
            "100%|██████████| 938/938 [00:01<00:00, 676.74it/s]\n",
            "100%|██████████| 938/938 [00:01<00:00, 521.35it/s]\n",
            "100%|██████████| 938/938 [00:01<00:00, 502.36it/s]\n",
            "100%|██████████| 938/938 [00:01<00:00, 664.68it/s]\n",
            "100%|██████████| 938/938 [00:01<00:00, 677.84it/s]\n",
            "100%|██████████| 938/938 [00:01<00:00, 679.32it/s]\n",
            "100%|██████████| 938/938 [00:01<00:00, 679.07it/s]\n",
            "100%|██████████| 938/938 [00:01<00:00, 666.06it/s]\n",
            "100%|██████████| 938/938 [00:01<00:00, 669.41it/s]\n",
            "100%|██████████| 938/938 [00:01<00:00, 678.63it/s]\n",
            "100%|██████████| 938/938 [00:01<00:00, 532.05it/s]\n",
            "100%|██████████| 938/938 [00:01<00:00, 501.65it/s]\n",
            "100%|██████████| 938/938 [00:01<00:00, 647.35it/s]\n",
            "100%|██████████| 938/938 [00:01<00:00, 670.80it/s]\n",
            "100%|██████████| 938/938 [00:01<00:00, 655.22it/s]\n",
            "100%|██████████| 938/938 [00:01<00:00, 667.14it/s]\n",
            "100%|██████████| 938/938 [00:01<00:00, 667.40it/s]\n",
            "100%|██████████| 938/938 [00:01<00:00, 675.50it/s]\n",
            "100%|██████████| 938/938 [00:01<00:00, 684.17it/s]\n",
            "100%|██████████| 938/938 [00:01<00:00, 536.91it/s]\n",
            "100%|██████████| 938/938 [00:01<00:00, 512.33it/s]\n",
            "100%|██████████| 938/938 [00:01<00:00, 658.98it/s]\n",
            "100%|██████████| 938/938 [00:01<00:00, 687.17it/s]\n",
            "100%|██████████| 938/938 [00:01<00:00, 667.12it/s]\n",
            "100%|██████████| 938/938 [00:01<00:00, 674.30it/s]\n",
            "100%|██████████| 938/938 [00:01<00:00, 693.23it/s]\n",
            "100%|██████████| 938/938 [00:01<00:00, 667.65it/s]\n",
            "100%|██████████| 938/938 [00:01<00:00, 660.02it/s]\n",
            "100%|██████████| 938/938 [00:01<00:00, 528.34it/s]\n",
            "100%|██████████| 938/938 [00:01<00:00, 525.10it/s]\n",
            "100%|██████████| 938/938 [00:01<00:00, 662.50it/s]\n",
            "100%|██████████| 938/938 [00:01<00:00, 677.78it/s]\n",
            "100%|██████████| 938/938 [00:01<00:00, 685.99it/s]\n",
            "100%|██████████| 938/938 [00:01<00:00, 669.22it/s]\n",
            "100%|██████████| 938/938 [00:01<00:00, 654.75it/s]\n",
            "100%|██████████| 938/938 [00:01<00:00, 676.36it/s]\n",
            "100%|██████████| 938/938 [00:01<00:00, 688.81it/s]\n",
            "100%|██████████| 938/938 [00:01<00:00, 540.00it/s]\n",
            "100%|██████████| 938/938 [00:01<00:00, 514.21it/s]\n",
            "100%|██████████| 938/938 [00:01<00:00, 662.77it/s]\n",
            "100%|██████████| 938/938 [00:01<00:00, 683.68it/s]\n",
            "100%|██████████| 938/938 [00:01<00:00, 666.71it/s]\n",
            "100%|██████████| 938/938 [00:01<00:00, 648.84it/s]\n",
            "100%|██████████| 938/938 [00:01<00:00, 668.11it/s]\n",
            "100%|██████████| 938/938 [00:01<00:00, 686.43it/s]\n",
            "100%|██████████| 938/938 [00:01<00:00, 682.22it/s]\n",
            "100%|██████████| 938/938 [00:01<00:00, 567.18it/s]\n",
            "100%|██████████| 938/938 [00:01<00:00, 518.78it/s]\n",
            "100%|██████████| 938/938 [00:01<00:00, 610.47it/s]\n",
            "100%|██████████| 938/938 [00:01<00:00, 682.86it/s]\n",
            "100%|██████████| 938/938 [00:01<00:00, 678.04it/s]\n",
            "100%|██████████| 938/938 [00:01<00:00, 676.64it/s]\n",
            "100%|██████████| 938/938 [00:01<00:00, 687.39it/s]\n",
            "100%|██████████| 938/938 [00:01<00:00, 672.13it/s]\n",
            "100%|██████████| 938/938 [00:01<00:00, 679.94it/s]\n",
            "100%|██████████| 938/938 [00:01<00:00, 538.38it/s]\n",
            "100%|██████████| 938/938 [00:01<00:00, 506.71it/s]\n",
            "100%|██████████| 938/938 [00:01<00:00, 614.92it/s]\n",
            "100%|██████████| 938/938 [00:01<00:00, 614.90it/s]\n",
            "100%|██████████| 938/938 [00:01<00:00, 663.31it/s]\n",
            "100%|██████████| 938/938 [00:01<00:00, 665.02it/s]\n",
            "100%|██████████| 938/938 [00:01<00:00, 657.28it/s]\n",
            "100%|██████████| 938/938 [00:01<00:00, 656.97it/s]\n",
            "100%|██████████| 938/938 [00:01<00:00, 668.92it/s]\n",
            "100%|██████████| 938/938 [00:01<00:00, 525.66it/s]\n",
            "100%|██████████| 938/938 [00:01<00:00, 504.86it/s]\n",
            "100%|██████████| 938/938 [00:01<00:00, 682.67it/s]\n",
            "100%|██████████| 938/938 [00:01<00:00, 671.92it/s]\n",
            "100%|██████████| 938/938 [00:01<00:00, 663.76it/s]\n",
            "100%|██████████| 938/938 [00:01<00:00, 669.23it/s]\n",
            "100%|██████████| 938/938 [00:01<00:00, 669.47it/s]\n",
            "100%|██████████| 938/938 [00:01<00:00, 654.45it/s]\n",
            "100%|██████████| 938/938 [00:01<00:00, 669.00it/s]\n"
          ]
        }
      ]
    },
    {
      "cell_type": "code",
      "source": [
        "with torch.no_grad():\n",
        "    train_accuracy = 0\n",
        "    for (data, targets) in tqdm(train_dataloader_):\n",
        "        data = data.cuda()\n",
        "        targets = targets.cuda()\n",
        "        train_outputs = model(data)\n",
        "        _, predicted_train = torch.max(train_outputs, 1)\n",
        "        train_accuracy += (predicted_train == targets).sum().item() / len(targets)\n",
        "\n",
        "\n",
        "print('train accuracy: ',(train_accuracy/len(train_dataloader_))*100)"
      ],
      "metadata": {
        "colab": {
          "base_uri": "https://localhost:8080/"
        },
        "id": "K2YouWdRpFmE",
        "outputId": "a14bea9f-e2e4-418b-a58c-c63da269c0d0"
      },
      "id": "K2YouWdRpFmE",
      "execution_count": 20,
      "outputs": [
        {
          "output_type": "stream",
          "name": "stderr",
          "text": [
            "100%|██████████| 938/938 [00:00<00:00, 1346.37it/s]"
          ]
        },
        {
          "output_type": "stream",
          "name": "stdout",
          "text": [
            "train accuracy:  92.96042110874201\n"
          ]
        },
        {
          "output_type": "stream",
          "name": "stderr",
          "text": [
            "\n"
          ]
        }
      ]
    },
    {
      "cell_type": "code",
      "source": [
        "with torch.no_grad():\n",
        "    test_accuracy = 0\n",
        "    for (data, targets) in tqdm(test_dataloader_):\n",
        "        data = data.cuda()\n",
        "        targets = targets.cuda()\n",
        "        test_outputs = model(data)\n",
        "        _, predicted_test = torch.max(test_outputs, 1)\n",
        "        test_accuracy += (predicted_test == targets).sum().item() / len(targets)\n",
        "\n",
        "print('test accuracy: ',(test_accuracy/len(test_dataloader_))*100)"
      ],
      "metadata": {
        "colab": {
          "base_uri": "https://localhost:8080/"
        },
        "id": "xYwOqnNGpTMM",
        "outputId": "ad447990-d2a3-4609-9747-bcd4794098dd"
      },
      "id": "xYwOqnNGpTMM",
      "execution_count": 21,
      "outputs": [
        {
          "output_type": "stream",
          "name": "stderr",
          "text": [
            "100%|██████████| 157/157 [00:00<00:00, 1255.56it/s]"
          ]
        },
        {
          "output_type": "stream",
          "name": "stdout",
          "text": [
            "test accuracy:  92.92396496815286\n"
          ]
        },
        {
          "output_type": "stream",
          "name": "stderr",
          "text": [
            "\n"
          ]
        }
      ]
    }
  ],
  "metadata": {
    "accelerator": "GPU",
    "colab": {
      "provenance": [],
      "gpuType": "T4"
    },
    "kernelspec": {
      "display_name": "Python 3",
      "name": "python3"
    },
    "language_info": {
      "codemirror_mode": {
        "name": "ipython",
        "version": 3
      },
      "file_extension": ".py",
      "mimetype": "text/x-python",
      "name": "python",
      "nbconvert_exporter": "python",
      "pygments_lexer": "ipython3",
      "version": "3.11.5"
    }
  },
  "nbformat": 4,
  "nbformat_minor": 5
}